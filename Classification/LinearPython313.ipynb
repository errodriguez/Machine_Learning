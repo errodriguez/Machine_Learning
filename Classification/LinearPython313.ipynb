{
 "cells": [
  {
   "cell_type": "code",
   "execution_count": 2,
   "id": "17dd7eed-5bba-49cf-99e7-d1ae041b1fb4",
   "metadata": {
    "execution": {
     "iopub.execute_input": "2025-07-18T02:25:17.105565Z",
     "iopub.status.busy": "2025-07-18T02:25:17.105164Z",
     "iopub.status.idle": "2025-07-18T02:25:17.241814Z",
     "shell.execute_reply": "2025-07-18T02:25:17.240496Z",
     "shell.execute_reply.started": "2025-07-18T02:25:17.105534Z"
    }
   },
   "outputs": [
    {
     "name": "stdout",
     "output_type": "stream",
     "text": [
      "Python 3.13.5\n"
     ]
    }
   ],
   "source": [
    "# Python 3.13.5\n",
    "! python --version"
   ]
  },
  {
   "cell_type": "raw",
   "id": "cd33e535-9713-41a9-9705-e8ff520db3c0",
   "metadata": {
    "execution": {
     "iopub.execute_input": "2025-07-18T02:26:11.779281Z",
     "iopub.status.busy": "2025-07-18T02:26:11.778876Z",
     "iopub.status.idle": "2025-07-18T02:26:12.427802Z",
     "shell.execute_reply": "2025-07-18T02:26:12.427254Z",
     "shell.execute_reply.started": "2025-07-18T02:26:11.779249Z"
    }
   },
   "source": [
    "# Successfully installed numpy-2.3.1\n",
    "! pip install numpy"
   ]
  },
  {
   "cell_type": "raw",
   "id": "f5bd9362-2eac-4ea0-8bb6-eda282c40019",
   "metadata": {
    "execution": {
     "iopub.execute_input": "2025-07-18T02:27:18.360462Z",
     "iopub.status.busy": "2025-07-18T02:27:18.359986Z",
     "iopub.status.idle": "2025-07-18T02:27:19.031589Z",
     "shell.execute_reply": "2025-07-18T02:27:19.031052Z",
     "shell.execute_reply.started": "2025-07-18T02:27:18.360422Z"
    }
   },
   "source": [
    "# Successfully installed contourpy-1.3.2 cycler-0.12.1 fonttools-4.59.0 kiwisolver-1.4.8 matplotlib-3.10.3 pillow-11.3.0 pyparsing-3.2.3\n",
    "!pip install matplotlib"
   ]
  },
  {
   "cell_type": "raw",
   "id": "d61b8abd-805c-4565-ad00-7b4692fedc41",
   "metadata": {
    "execution": {
     "iopub.execute_input": "2025-07-18T02:27:51.647012Z",
     "iopub.status.busy": "2025-07-18T02:27:51.646647Z",
     "iopub.status.idle": "2025-07-18T02:28:12.355377Z",
     "shell.execute_reply": "2025-07-18T02:28:12.354876Z",
     "shell.execute_reply.started": "2025-07-18T02:27:51.646983Z"
    }
   },
   "source": [
    "# Successfully installed joblib-1.5.1 scikit-learn-1.7.0 scipy-1.16.0 threadpoolctl-3.6.0\n",
    "! pip install scikit-learn"
   ]
  },
  {
   "cell_type": "code",
   "execution_count": 8,
   "id": "ffa1f0b3-d1a5-48fb-8e16-dab0320b4b12",
   "metadata": {
    "execution": {
     "iopub.execute_input": "2025-07-18T02:28:37.836704Z",
     "iopub.status.busy": "2025-07-18T02:28:37.836326Z",
     "iopub.status.idle": "2025-07-18T02:28:38.492125Z",
     "shell.execute_reply": "2025-07-18T02:28:38.491559Z",
     "shell.execute_reply.started": "2025-07-18T02:28:37.836676Z"
    }
   },
   "outputs": [
    {
     "name": "stdout",
     "output_type": "stream",
     "text": [
      "Requirement already satisfied: scipy in /Users/lalo/Applications/Miniconda3/envs/mlp313/lib/python3.13/site-packages (1.16.0)\n",
      "Requirement already satisfied: numpy<2.6,>=1.25.2 in /Users/lalo/Applications/Miniconda3/envs/mlp313/lib/python3.13/site-packages (from scipy) (2.3.1)\n"
     ]
    }
   ],
   "source": [
    "! pip install scipy"
   ]
  },
  {
   "cell_type": "code",
   "execution_count": 9,
   "id": "4797bc9b-c45a-4066-886c-2d7212666952",
   "metadata": {
    "execution": {
     "iopub.execute_input": "2025-07-18T02:29:32.633368Z",
     "iopub.status.busy": "2025-07-18T02:29:32.632990Z",
     "iopub.status.idle": "2025-07-18T02:29:52.057742Z",
     "shell.execute_reply": "2025-07-18T02:29:52.057430Z",
     "shell.execute_reply.started": "2025-07-18T02:29:32.633338Z"
    }
   },
   "outputs": [],
   "source": [
    "import numpy as np\n",
    "import matplotlib.pyplot as plt\n",
    "from sklearn.metrics import confusion_matrix, classification_report\n",
    "from scipy.optimize import linprog\n",
    "\n",
    "# Datos de entrenamiento (x1, x2), y etiquetas (+1 o -1)\n",
    "X = np.array([\n",
    "    [2, 3],\n",
    "    [3, 3],\n",
    "    [3, 5],\n",
    "    [5, 2],\n",
    "    [1, 1],\n",
    "    [2, 1],\n",
    "    [1, 0],\n",
    "    [0, 2]\n",
    "])\n",
    "y = np.array([1, 1, 1, 1, -1, -1, -1, -1])"
   ]
  },
  {
   "cell_type": "code",
   "execution_count": 10,
   "id": "cd4aa257-de2d-4a5a-9e9f-436e8fcd58ff",
   "metadata": {
    "execution": {
     "iopub.execute_input": "2025-07-18T02:30:22.763750Z",
     "iopub.status.busy": "2025-07-18T02:30:22.763236Z",
     "iopub.status.idle": "2025-07-18T02:30:22.913485Z",
     "shell.execute_reply": "2025-07-18T02:30:22.912948Z",
     "shell.execute_reply.started": "2025-07-18T02:30:22.763726Z"
    }
   },
   "outputs": [
    {
     "ename": "TypeError",
     "evalue": "'NoneType' object is not subscriptable",
     "output_type": "error",
     "traceback": [
      "\u001b[31m---------------------------------------------------------------------------\u001b[39m",
      "\u001b[31mTypeError\u001b[39m                                 Traceback (most recent call last)",
      "\u001b[36mCell\u001b[39m\u001b[36m \u001b[39m\u001b[32mIn[10]\u001b[39m\u001b[32m, line 18\u001b[39m\n\u001b[32m     15\u001b[39m \u001b[38;5;66;03m# Resolver\u001b[39;00m\n\u001b[32m     16\u001b[39m res = linprog(c=c_obj, A_ub=A_ub, b_ub=b_ub, method=\u001b[33m'\u001b[39m\u001b[33mhighs\u001b[39m\u001b[33m'\u001b[39m)\n\u001b[32m---> \u001b[39m\u001b[32m18\u001b[39m w = \u001b[43mres\u001b[49m\u001b[43m.\u001b[49m\u001b[43mx\u001b[49m\u001b[43m[\u001b[49m\u001b[43m:\u001b[49m\u001b[32;43m2\u001b[39;49m\u001b[43m]\u001b[49m\n\u001b[32m     19\u001b[39m c = res.x[\u001b[32m2\u001b[39m]\n\u001b[32m     21\u001b[39m \u001b[38;5;28mprint\u001b[39m(\u001b[33m\"\u001b[39m\u001b[33mParámetros encontrados:\u001b[39m\u001b[33m\"\u001b[39m)\n",
      "\u001b[31mTypeError\u001b[39m: 'NoneType' object is not subscriptable"
     ]
    }
   ],
   "source": [
    "from scipy.optimize import linprog\n",
    "\n",
    "# Número de características\n",
    "n = X.shape[1]\n",
    "\n",
    "# Variables: a, b, c (parámetros del hiperplano)\n",
    "# Objetivo: minimizar 0 (solo nos interesa factibilidad aquí)\n",
    "c_obj = np.zeros(n + 1)  # [a, b, c]\n",
    "\n",
    "# Restricciones: y_i * (a x_i + b x_i + c) >= 1\n",
    "# Se reescribe como: -y_i * (a x_i + b x_i + c) <= -1\n",
    "A_ub = -y[:, None] * np.hstack((X, np.ones((len(X), 1))))\n",
    "b_ub = -np.ones(len(X))\n",
    "\n",
    "# Resolver\n",
    "res = linprog(c=c_obj, A_ub=A_ub, b_ub=b_ub, method='highs')\n",
    "\n",
    "w = res.x[:2]\n",
    "c = res.x[2]\n",
    "\n",
    "print(\"Parámetros encontrados:\")\n",
    "print(f\"a = {w[0]:.3f}, b = {w[1]:.3f}, c = {c:.3f}\")"
   ]
  },
  {
   "cell_type": "code",
   "execution_count": 13,
   "id": "9751d79c-e6af-435c-b92b-f4e3b43cfef8",
   "metadata": {
    "execution": {
     "iopub.execute_input": "2025-07-18T02:31:59.880662Z",
     "iopub.status.busy": "2025-07-18T02:31:59.880321Z",
     "iopub.status.idle": "2025-07-18T02:31:59.885508Z",
     "shell.execute_reply": "2025-07-18T02:31:59.884520Z",
     "shell.execute_reply.started": "2025-07-18T02:31:59.880639Z"
    }
   },
   "outputs": [
    {
     "data": {
      "text/plain": [
       "       message: The problem is infeasible. (HiGHS Status 8: model_status is Infeasible; primal_status is None)\n",
       "       success: False\n",
       "        status: 2\n",
       "           fun: None\n",
       "             x: None\n",
       "           nit: 0\n",
       "         lower:  residual: None\n",
       "                marginals: None\n",
       "         upper:  residual: None\n",
       "                marginals: None\n",
       "         eqlin:  residual: None\n",
       "                marginals: None\n",
       "       ineqlin:  residual: None\n",
       "                marginals: None"
      ]
     },
     "execution_count": 13,
     "metadata": {},
     "output_type": "execute_result"
    }
   ],
   "source": [
    "res"
   ]
  },
  {
   "cell_type": "code",
   "execution_count": null,
   "id": "20c4165b-2a41-41c6-b24c-8d387270830d",
   "metadata": {},
   "outputs": [],
   "source": []
  }
 ],
 "metadata": {
  "kernelspec": {
   "display_name": "Python 3 (ipykernel)",
   "language": "python",
   "name": "python3"
  },
  "language_info": {
   "codemirror_mode": {
    "name": "ipython",
    "version": 3
   },
   "file_extension": ".py",
   "mimetype": "text/x-python",
   "name": "python",
   "nbconvert_exporter": "python",
   "pygments_lexer": "ipython3",
   "version": "3.11.13"
  }
 },
 "nbformat": 4,
 "nbformat_minor": 5
}

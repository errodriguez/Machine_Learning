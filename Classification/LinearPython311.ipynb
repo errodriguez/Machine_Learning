{
 "cells": [
  {
   "cell_type": "code",
   "execution_count": 1,
   "id": "17dd7eed-5bba-49cf-99e7-d1ae041b1fb4",
   "metadata": {
    "execution": {
     "iopub.execute_input": "2025-07-18T02:58:45.896493Z",
     "iopub.status.busy": "2025-07-18T02:58:45.896159Z",
     "iopub.status.idle": "2025-07-18T02:58:46.039114Z",
     "shell.execute_reply": "2025-07-18T02:58:46.038088Z",
     "shell.execute_reply.started": "2025-07-18T02:58:45.896469Z"
    }
   },
   "outputs": [
    {
     "name": "stdout",
     "output_type": "stream",
     "text": [
      "Python 3.11.13\n"
     ]
    }
   ],
   "source": [
    "# Python 3.13.5\n",
    "! python --version"
   ]
  },
  {
   "cell_type": "raw",
   "id": "31c5da97-e9fb-4d0f-977f-d8c4a33365ed",
   "metadata": {
    "execution": {
     "iopub.execute_input": "2025-07-18T02:40:48.228291Z",
     "iopub.status.busy": "2025-07-18T02:40:48.227633Z",
     "iopub.status.idle": "2025-07-18T02:40:55.199159Z",
     "shell.execute_reply": "2025-07-18T02:40:55.198618Z",
     "shell.execute_reply.started": "2025-07-18T02:40:48.228260Z"
    }
   },
   "source": [
    "# Successfully installed numpy-2.3.1\n",
    "! pip install numpy"
   ]
  },
  {
   "cell_type": "raw",
   "id": "9b586419-263c-4996-ab5c-2b0bcde34673",
   "metadata": {
    "execution": {
     "iopub.execute_input": "2025-07-18T02:41:02.986603Z",
     "iopub.status.busy": "2025-07-18T02:41:02.986263Z",
     "iopub.status.idle": "2025-07-18T02:41:16.902243Z",
     "shell.execute_reply": "2025-07-18T02:41:16.901720Z",
     "shell.execute_reply.started": "2025-07-18T02:41:02.986577Z"
    }
   },
   "source": [
    "# Successfully installed contourpy-1.3.2 cycler-0.12.1 fonttools-4.59.0 kiwisolver-1.4.8 matplotlib-3.10.3 pillow-11.3.0 pyparsing-3.2.3\n",
    "!pip install matplotlib"
   ]
  },
  {
   "cell_type": "raw",
   "id": "d1b383b7-c616-4b50-bc0b-1d76efcd3e7e",
   "metadata": {
    "execution": {
     "iopub.execute_input": "2025-07-18T02:41:26.369229Z",
     "iopub.status.busy": "2025-07-18T02:41:26.368695Z",
     "iopub.status.idle": "2025-07-18T02:41:57.461914Z",
     "shell.execute_reply": "2025-07-18T02:41:57.461385Z",
     "shell.execute_reply.started": "2025-07-18T02:41:26.369189Z"
    }
   },
   "source": [
    "# Successfully installed joblib-1.5.1 scikit-learn-1.7.0 scipy-1.16.0 threadpoolctl-3.6.0\n",
    "! pip install scikit-learn"
   ]
  },
  {
   "cell_type": "code",
   "execution_count": 2,
   "id": "4797bc9b-c45a-4066-886c-2d7212666952",
   "metadata": {
    "execution": {
     "iopub.execute_input": "2025-07-18T02:58:48.596879Z",
     "iopub.status.busy": "2025-07-18T02:58:48.596410Z",
     "iopub.status.idle": "2025-07-18T02:59:07.196167Z",
     "shell.execute_reply": "2025-07-18T02:59:07.195406Z",
     "shell.execute_reply.started": "2025-07-18T02:58:48.596848Z"
    }
   },
   "outputs": [],
   "source": [
    "import numpy as np\n",
    "import matplotlib.pyplot as plt\n",
    "from sklearn.metrics import confusion_matrix, classification_report\n",
    "from scipy.optimize import linprog\n",
    "\n",
    "# Datos de entrenamiento (x1, x2), y etiquetas (+1 o -1)\n",
    "X = np.array([\n",
    "    [2, 3],\n",
    "    [3, 3],\n",
    "    [3, 5],\n",
    "    [5, 2],\n",
    "    [1, 1],\n",
    "    [2, 1],\n",
    "    [1, 0],\n",
    "    [0, 2]\n",
    "])\n",
    "y = np.array([1, 1, 1, 1, -1, -1, -1, -1])"
   ]
  },
  {
   "cell_type": "code",
   "execution_count": 3,
   "id": "cd4aa257-de2d-4a5a-9e9f-436e8fcd58ff",
   "metadata": {
    "execution": {
     "iopub.execute_input": "2025-07-18T02:59:07.198882Z",
     "iopub.status.busy": "2025-07-18T02:59:07.198267Z",
     "iopub.status.idle": "2025-07-18T02:59:07.332943Z",
     "shell.execute_reply": "2025-07-18T02:59:07.332510Z",
     "shell.execute_reply.started": "2025-07-18T02:59:07.198851Z"
    }
   },
   "outputs": [
    {
     "ename": "TypeError",
     "evalue": "'NoneType' object is not subscriptable",
     "output_type": "error",
     "traceback": [
      "\u001b[31m---------------------------------------------------------------------------\u001b[39m",
      "\u001b[31mTypeError\u001b[39m                                 Traceback (most recent call last)",
      "\u001b[36mCell\u001b[39m\u001b[36m \u001b[39m\u001b[32mIn[3]\u001b[39m\u001b[32m, line 18\u001b[39m\n\u001b[32m     15\u001b[39m \u001b[38;5;66;03m# Resolver\u001b[39;00m\n\u001b[32m     16\u001b[39m res = linprog(c=c_obj, A_ub=A_ub, b_ub=b_ub, method=\u001b[33m'\u001b[39m\u001b[33mhighs\u001b[39m\u001b[33m'\u001b[39m)\n\u001b[32m---> \u001b[39m\u001b[32m18\u001b[39m w = \u001b[43mres\u001b[49m\u001b[43m.\u001b[49m\u001b[43mx\u001b[49m\u001b[43m[\u001b[49m\u001b[43m:\u001b[49m\u001b[32;43m2\u001b[39;49m\u001b[43m]\u001b[49m\n\u001b[32m     19\u001b[39m c = res.x[\u001b[32m2\u001b[39m]\n\u001b[32m     21\u001b[39m \u001b[38;5;28mprint\u001b[39m(\u001b[33m\"\u001b[39m\u001b[33mParámetros encontrados:\u001b[39m\u001b[33m\"\u001b[39m)\n",
      "\u001b[31mTypeError\u001b[39m: 'NoneType' object is not subscriptable"
     ]
    }
   ],
   "source": [
    "from scipy.optimize import linprog\n",
    "\n",
    "# Número de características\n",
    "n = X.shape[1]\n",
    "\n",
    "# Variables: a, b, c (parámetros del hiperplano)\n",
    "# Objetivo: minimizar 0 (solo nos interesa factibilidad aquí)\n",
    "c_obj = np.zeros(n + 1)  # [a, b, c]\n",
    "\n",
    "# Restricciones: y_i * (a x_i + b x_i + c) >= 1\n",
    "# Se reescribe como: -y_i * (a x_i + b x_i + c) <= -1\n",
    "A_ub = -y[:, None] * np.hstack((X, np.ones((len(X), 1))))\n",
    "b_ub = -np.ones(len(X))\n",
    "\n",
    "# Resolver\n",
    "res = linprog(c=c_obj, A_ub=A_ub, b_ub=b_ub, method='highs')\n",
    "\n",
    "w = res.x[:2]\n",
    "c = res.x[2]\n",
    "\n",
    "print(\"Parámetros encontrados:\")\n",
    "print(f\"a = {w[0]:.3f}, b = {w[1]:.3f}, c = {c:.3f}\")"
   ]
  },
  {
   "cell_type": "code",
   "execution_count": 4,
   "id": "9751d79c-e6af-435c-b92b-f4e3b43cfef8",
   "metadata": {
    "execution": {
     "iopub.execute_input": "2025-07-18T02:59:17.971701Z",
     "iopub.status.busy": "2025-07-18T02:59:17.971359Z",
     "iopub.status.idle": "2025-07-18T02:59:17.981025Z",
     "shell.execute_reply": "2025-07-18T02:59:17.980374Z",
     "shell.execute_reply.started": "2025-07-18T02:59:17.971678Z"
    }
   },
   "outputs": [
    {
     "data": {
      "text/plain": [
       "       message: The problem is infeasible. (HiGHS Status 8: model_status is Infeasible; primal_status is At lower/fixed bound)\n",
       "       success: False\n",
       "        status: 2\n",
       "           fun: None\n",
       "             x: None\n",
       "           nit: 0\n",
       "         lower:  residual: None\n",
       "                marginals: None\n",
       "         upper:  residual: None\n",
       "                marginals: None\n",
       "         eqlin:  residual: None\n",
       "                marginals: None\n",
       "       ineqlin:  residual: None\n",
       "                marginals: None"
      ]
     },
     "execution_count": 4,
     "metadata": {},
     "output_type": "execute_result"
    }
   ],
   "source": [
    "res"
   ]
  },
  {
   "cell_type": "code",
   "execution_count": 5,
   "id": "20c4165b-2a41-41c6-b24c-8d387270830d",
   "metadata": {
    "execution": {
     "iopub.execute_input": "2025-07-18T02:56:03.791746Z",
     "iopub.status.busy": "2025-07-18T02:56:03.791146Z",
     "iopub.status.idle": "2025-07-18T02:56:03.795070Z",
     "shell.execute_reply": "2025-07-18T02:56:03.794381Z",
     "shell.execute_reply.started": "2025-07-18T02:56:03.791720Z"
    }
   },
   "outputs": [
    {
     "name": "stdout",
     "output_type": "stream",
     "text": [
      "1.15.0\n"
     ]
    }
   ],
   "source": [
    "import scipy\n",
    "print(scipy.__version__)"
   ]
  },
  {
   "cell_type": "code",
   "execution_count": 11,
   "id": "a88acffe-71de-4b3b-b207-ba2f97edac4c",
   "metadata": {
    "execution": {
     "iopub.execute_input": "2025-07-18T02:57:52.340552Z",
     "iopub.status.busy": "2025-07-18T02:57:52.340153Z",
     "iopub.status.idle": "2025-07-18T02:58:26.504149Z",
     "shell.execute_reply": "2025-07-18T02:58:26.503593Z",
     "shell.execute_reply.started": "2025-07-18T02:57:52.340521Z"
    }
   },
   "outputs": [
    {
     "name": "stdout",
     "output_type": "stream",
     "text": [
      "Collecting scipy==1.11.4\n",
      "  Using cached scipy-1.11.4-cp311-cp311-macosx_12_0_arm64.whl.metadata (165 kB)\n",
      "Collecting numpy<1.28.0,>=1.21.6 (from scipy==1.11.4)\n",
      "  Using cached numpy-1.26.4-cp311-cp311-macosx_11_0_arm64.whl.metadata (114 kB)\n",
      "Downloading scipy-1.11.4-cp311-cp311-macosx_12_0_arm64.whl (29.7 MB)\n",
      "\u001b[2K   \u001b[90m━━━━━━━━━━━━━━━━━━━━━━━━━━━━━━━━━━━━━━━━\u001b[0m \u001b[32m29.7/29.7 MB\u001b[0m \u001b[31m1.3 MB/s\u001b[0m eta \u001b[36m0:00:00\u001b[0m00:01\u001b[0m00:01\u001b[0m\n",
      "\u001b[?25hDownloading numpy-1.26.4-cp311-cp311-macosx_11_0_arm64.whl (14.0 MB)\n",
      "\u001b[2K   \u001b[90m━━━━━━━━━━━━━━━━━━━━━━━━━━━━━━━━━━━━━━━━\u001b[0m \u001b[32m14.0/14.0 MB\u001b[0m \u001b[31m2.0 MB/s\u001b[0m eta \u001b[36m0:00:00\u001b[0m00:01\u001b[0m00:01\u001b[0m\n",
      "\u001b[?25hInstalling collected packages: numpy, scipy\n",
      "\u001b[2K  Attempting uninstall: numpy\n",
      "\u001b[2K    Found existing installation: numpy 2.3.1\n",
      "\u001b[2K    Uninstalling numpy-2.3.1:\n",
      "\u001b[2K      Successfully uninstalled numpy-2.3.1\n",
      "\u001b[2K   \u001b[90m━━━━━━━━━━━━━━━━━━━━━━━━━━━━━━━━━━━━━━━━\u001b[0m \u001b[32m2/2\u001b[0m [scipy]32m1/2\u001b[0m [scipy]\n",
      "\u001b[1A\u001b[2KSuccessfully installed numpy-1.26.4 scipy-1.11.4\n"
     ]
    }
   ],
   "source": [
    "!pip install scipy==1.11.4"
   ]
  },
  {
   "cell_type": "code",
   "execution_count": 12,
   "id": "57386859-711b-4816-b1db-08e540257a12",
   "metadata": {
    "execution": {
     "iopub.execute_input": "2025-07-18T02:58:26.505579Z",
     "iopub.status.busy": "2025-07-18T02:58:26.505405Z",
     "iopub.status.idle": "2025-07-18T02:58:28.335987Z",
     "shell.execute_reply": "2025-07-18T02:58:28.335457Z",
     "shell.execute_reply.started": "2025-07-18T02:58:26.505560Z"
    }
   },
   "outputs": [
    {
     "name": "stdout",
     "output_type": "stream",
     "text": [
      "Collecting scikit-learn\n",
      "  Using cached scikit_learn-1.7.0-cp311-cp311-macosx_12_0_arm64.whl.metadata (31 kB)\n",
      "Requirement already satisfied: numpy>=1.22.0 in /Users/lalo/Applications/Miniconda3/envs/mlp311/lib/python3.11/site-packages (from scikit-learn) (1.26.4)\n",
      "Requirement already satisfied: scipy>=1.8.0 in /Users/lalo/Applications/Miniconda3/envs/mlp311/lib/python3.11/site-packages (from scikit-learn) (1.11.4)\n",
      "Requirement already satisfied: joblib>=1.2.0 in /Users/lalo/Applications/Miniconda3/envs/mlp311/lib/python3.11/site-packages (from scikit-learn) (1.5.1)\n",
      "Requirement already satisfied: threadpoolctl>=3.1.0 in /Users/lalo/Applications/Miniconda3/envs/mlp311/lib/python3.11/site-packages (from scikit-learn) (3.6.0)\n",
      "Using cached scikit_learn-1.7.0-cp311-cp311-macosx_12_0_arm64.whl (10.7 MB)\n",
      "Installing collected packages: scikit-learn\n",
      "Successfully installed scikit-learn-1.7.0\n"
     ]
    }
   ],
   "source": [
    "!pip install scikit-learn"
   ]
  },
  {
   "cell_type": "code",
   "execution_count": null,
   "id": "2162119d-1c06-4060-a402-9a1c68b7089c",
   "metadata": {},
   "outputs": [],
   "source": []
  }
 ],
 "metadata": {
  "kernelspec": {
   "display_name": "Python 3 (ipykernel)",
   "language": "python",
   "name": "python3"
  },
  "language_info": {
   "codemirror_mode": {
    "name": "ipython",
    "version": 3
   },
   "file_extension": ".py",
   "mimetype": "text/x-python",
   "name": "python",
   "nbconvert_exporter": "python",
   "pygments_lexer": "ipython3",
   "version": "3.11.13"
  }
 },
 "nbformat": 4,
 "nbformat_minor": 5
}

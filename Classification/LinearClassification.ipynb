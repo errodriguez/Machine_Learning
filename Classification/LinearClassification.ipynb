{
 "cells": [
  {
   "cell_type": "markdown",
   "id": "54cf2da9-4ae4-482a-9e50-67d105fd8f24",
   "metadata": {},
   "source": [
    "# Linear Programming for classification problems"
   ]
  },
  {
   "cell_type": "markdown",
   "id": "058e0268-ece8-4b80-ae07-650e4b9bb5fd",
   "metadata": {},
   "source": [
    "## Notebook environment\n",
    "\n",
    "The next cells are raw cell for documentation purposes, they can be changed to code cells to install all needed libraries and restore the environment in which this notebook was created."
   ]
  },
  {
   "cell_type": "raw",
   "id": "3335743b-ed5d-40d8-a70b-bfd535b998dc",
   "metadata": {
    "execution": {
     "iopub.execute_input": "2025-07-29T00:26:00.968793Z",
     "iopub.status.busy": "2025-07-29T00:26:00.968394Z",
     "iopub.status.idle": "2025-07-29T00:26:01.125617Z",
     "shell.execute_reply": "2025-07-29T00:26:01.124307Z",
     "shell.execute_reply.started": "2025-07-29T00:26:00.968767Z"
    }
   },
   "source": [
    "# Python 3.13.5\n",
    "! python --version"
   ]
  },
  {
   "cell_type": "raw",
   "id": "cd33e535-9713-41a9-9705-e8ff520db3c0",
   "metadata": {
    "execution": {
     "iopub.execute_input": "2025-07-18T02:26:11.779281Z",
     "iopub.status.busy": "2025-07-18T02:26:11.778876Z",
     "iopub.status.idle": "2025-07-18T02:26:12.427802Z",
     "shell.execute_reply": "2025-07-18T02:26:12.427254Z",
     "shell.execute_reply.started": "2025-07-18T02:26:11.779249Z"
    }
   },
   "source": [
    "# Successfully installed numpy-2.3.1\n",
    "! pip install numpy"
   ]
  },
  {
   "cell_type": "raw",
   "id": "f5bd9362-2eac-4ea0-8bb6-eda282c40019",
   "metadata": {
    "execution": {
     "iopub.execute_input": "2025-07-18T02:27:18.360462Z",
     "iopub.status.busy": "2025-07-18T02:27:18.359986Z",
     "iopub.status.idle": "2025-07-18T02:27:19.031589Z",
     "shell.execute_reply": "2025-07-18T02:27:19.031052Z",
     "shell.execute_reply.started": "2025-07-18T02:27:18.360422Z"
    }
   },
   "source": [
    "# Successfully installed contourpy-1.3.2 cycler-0.12.1 fonttools-4.59.0 kiwisolver-1.4.8 matplotlib-3.10.3 pillow-11.3.0 pyparsing-3.2.3\n",
    "!pip install matplotlib"
   ]
  },
  {
   "cell_type": "raw",
   "id": "a1c38013-07a6-43ad-a6ee-6b2028671b08",
   "metadata": {
    "execution": {
     "iopub.execute_input": "2025-07-29T01:00:26.122149Z",
     "iopub.status.busy": "2025-07-29T01:00:26.121126Z",
     "iopub.status.idle": "2025-07-29T01:00:34.867546Z",
     "shell.execute_reply": "2025-07-29T01:00:34.867022Z",
     "shell.execute_reply.started": "2025-07-29T01:00:26.122114Z"
    }
   },
   "source": [
    "# Successfully installed joblib-1.5.1 scikit-learn-1.7.1 scipy-1.16.1 threadpoolctl-3.6.0\n",
    "! pip install scikit-learn"
   ]
  },
  {
   "cell_type": "raw",
   "id": "3ac50620-d801-46dc-8ad3-84bf9de582a7",
   "metadata": {
    "execution": {
     "iopub.execute_input": "2025-07-18T02:28:37.836704Z",
     "iopub.status.busy": "2025-07-18T02:28:37.836326Z",
     "iopub.status.idle": "2025-07-18T02:28:38.492125Z",
     "shell.execute_reply": "2025-07-18T02:28:38.491559Z",
     "shell.execute_reply.started": "2025-07-18T02:28:37.836676Z"
    }
   },
   "source": [
    "! pip install scipy"
   ]
  },
  {
   "cell_type": "raw",
   "id": "e9075694-7507-4ef4-9a33-c3d77bf5982e",
   "metadata": {
    "execution": {
     "iopub.execute_input": "2025-07-29T00:24:53.098884Z",
     "iopub.status.busy": "2025-07-29T00:24:53.098176Z",
     "iopub.status.idle": "2025-07-29T00:24:54.904108Z",
     "shell.execute_reply": "2025-07-29T00:24:54.903744Z",
     "shell.execute_reply.started": "2025-07-29T00:24:53.098857Z"
    }
   },
   "source": [
    "# As a workaround, due to a problem with new lines in LaTeX.\n",
    "! pip install jupyterlab-mathjax2"
   ]
  },
  {
   "cell_type": "markdown",
   "id": "c09cdfa8-5352-42b6-8771-8d3a7f6a90b7",
   "metadata": {},
   "source": [
    "## Problem"
   ]
  },
  {
   "cell_type": "markdown",
   "id": "bb0dec7b-337f-4467-aa6f-3e6acfdbe0f5",
   "metadata": {},
   "source": [
    "Let's assume we have a linear programming model that solve:"
   ]
  },
  {
   "cell_type": "markdown",
   "id": "9042ee22-2bf5-40e5-95d9-ca17b5327acd",
   "metadata": {},
   "source": [
    "$\n",
    "\\begin{aligned}\n",
    "\\text{Maximise:} & \\quad z = 3x + 5y \\\\\n",
    "\\text{Subject to:} & \\quad x + 2y \\le 10 \\\\\n",
    "& \\quad x \\ge 0, y \\ge 0\n",
    "\\end{aligned}\n",
    "$"
   ]
  },
  {
   "cell_type": "markdown",
   "id": "c5dacfa4-857b-4790-bee4-d005ac9d0c05",
   "metadata": {},
   "source": [
    "Usually we'll find this kind of models to solve regression or continuos optimisation problems. Those kind of models cannot be solved in a way that we can think of them for classification purposes and which let us create, for exmaple a confusion matrix, to compare its performance against real data classes."
   ]
  },
  {
   "cell_type": "markdown",
   "id": "811ff350-d4fb-49df-b492-1c784f692e5d",
   "metadata": {},
   "source": [
    "On the other hand, if what we want to do is classify the points in a plane as belonging to a class A or B, we can see the problem as one in which we look for a straight line $ ax + by + c = $ that divides the plane and separates it into two regions, where each corresponds to a category of data. Let's create a dataset for this purpose."
   ]
  },
  {
   "cell_type": "code",
   "execution_count": 1,
   "id": "3d5d7ae0-af78-4ca9-9c03-898da1543fb9",
   "metadata": {
    "execution": {
     "iopub.execute_input": "2025-07-30T00:58:42.072567Z",
     "iopub.status.busy": "2025-07-30T00:58:42.072132Z",
     "iopub.status.idle": "2025-07-30T00:58:42.156886Z",
     "shell.execute_reply": "2025-07-30T00:58:42.156552Z",
     "shell.execute_reply.started": "2025-07-30T00:58:42.072534Z"
    }
   },
   "outputs": [],
   "source": [
    "import numpy as np\n",
    "\n",
    "# Training data points (x1, x2), and labels (+1 or -1)\n",
    "X = np.array([\n",
    "    [2, 3],\n",
    "    [3, 3],\n",
    "    [3, 5],\n",
    "    [5, 2],\n",
    "    [1, 1],\n",
    "    [2, 1],\n",
    "    [1, 0],\n",
    "    [0, 2]\n",
    "])\n",
    "y = np.array([1, 1, 1, 1, -1, -1, -1, -1])"
   ]
  },
  {
   "cell_type": "markdown",
   "id": "3e8c6b38-bad3-433f-aed5-872bccfed223",
   "metadata": {},
   "source": [
    "We wish to find $w = [a,b]$ y $c$ such as:\n",
    "\n",
    "$$\n",
    "y_i(ax_i + bx_i + c) \\ge 1 \\quad \\forall i\n",
    "$$\n",
    "\n",
    "This is a simplified form of a linear hard SVM, and can be solved as a linear programming problem."
   ]
  },
  {
   "cell_type": "code",
   "execution_count": 2,
   "id": "d8b5dee6-4f92-497a-a6de-ab5063162e2d",
   "metadata": {
    "execution": {
     "iopub.execute_input": "2025-07-30T00:58:42.158185Z",
     "iopub.status.busy": "2025-07-30T00:58:42.157739Z",
     "iopub.status.idle": "2025-07-30T00:58:42.529707Z",
     "shell.execute_reply": "2025-07-30T00:58:42.528812Z",
     "shell.execute_reply.started": "2025-07-30T00:58:42.158169Z"
    }
   },
   "outputs": [
    {
     "ename": "TypeError",
     "evalue": "'NoneType' object is not subscriptable",
     "output_type": "error",
     "traceback": [
      "\u001b[31m---------------------------------------------------------------------------\u001b[39m",
      "\u001b[31mTypeError\u001b[39m                                 Traceback (most recent call last)",
      "\u001b[36mCell\u001b[39m\u001b[36m \u001b[39m\u001b[32mIn[2]\u001b[39m\u001b[32m, line 18\u001b[39m\n\u001b[32m     15\u001b[39m \u001b[38;5;66;03m# Resolver\u001b[39;00m\n\u001b[32m     16\u001b[39m res = linprog(c=c_obj, A_ub=A_ub, b_ub=b_ub, method=\u001b[33m'\u001b[39m\u001b[33mhighs\u001b[39m\u001b[33m'\u001b[39m)\n\u001b[32m---> \u001b[39m\u001b[32m18\u001b[39m w = \u001b[43mres\u001b[49m\u001b[43m.\u001b[49m\u001b[43mx\u001b[49m\u001b[43m[\u001b[49m\u001b[43m:\u001b[49m\u001b[32;43m2\u001b[39;49m\u001b[43m]\u001b[49m\n\u001b[32m     19\u001b[39m c = res.x[\u001b[32m2\u001b[39m]\n\u001b[32m     21\u001b[39m \u001b[38;5;28mprint\u001b[39m(\u001b[33m\"\u001b[39m\u001b[33mParámetros encontrados:\u001b[39m\u001b[33m\"\u001b[39m)\n",
      "\u001b[31mTypeError\u001b[39m: 'NoneType' object is not subscriptable"
     ]
    }
   ],
   "source": [
    "from scipy.optimize import linprog\n",
    "\n",
    "# Number of features\n",
    "n = X.shape[1]\n",
    "\n",
    "# Variables: a, b, c (hyperplane parameters)\n",
    "# Objective: To minimise 0 (we are only interested in feasibility here))\n",
    "c_obj = np.zeros(n + 1)  # [a, b, c]\n",
    "\n",
    "# Restricciones: y_i * (a x_i + b x_i + c) >= 1\n",
    "# Se reescribe como: -y_i * (a x_i + b x_i + c) <= -1\n",
    "A_ub = -y[:, None] * np.hstack((X, np.ones((len(X), 1))))\n",
    "b_ub = -np.ones(len(X))\n",
    "\n",
    "# Resolver\n",
    "res = linprog(c=c_obj, A_ub=A_ub, b_ub=b_ub, method='highs')\n",
    "\n",
    "w = res.x[:2]\n",
    "c = res.x[2]\n",
    "\n",
    "print(\"Parámetros encontrados:\")\n",
    "print(f\"a = {w[0]:.3f}, b = {w[1]:.3f}, c = {c:.3f}\")\n"
   ]
  },
  {
   "cell_type": "markdown",
   "id": "49c5e87b-73b2-45ed-a676-e2751c754210",
   "metadata": {},
   "source": [
    "We found a problem here. Let's see what is the content of `res`."
   ]
  },
  {
   "cell_type": "code",
   "execution_count": 3,
   "id": "156e39bc-d1ee-40fe-8396-9803075f643e",
   "metadata": {
    "execution": {
     "iopub.execute_input": "2025-07-30T00:58:49.756567Z",
     "iopub.status.busy": "2025-07-30T00:58:49.755939Z",
     "iopub.status.idle": "2025-07-30T00:58:49.763566Z",
     "shell.execute_reply": "2025-07-30T00:58:49.763046Z",
     "shell.execute_reply.started": "2025-07-30T00:58:49.756544Z"
    }
   },
   "outputs": [
    {
     "data": {
      "text/plain": [
       "       message: The problem is infeasible. (HiGHS Status 8: model_status is Infeasible; primal_status is None)\n",
       "       success: False\n",
       "        status: 2\n",
       "           fun: None\n",
       "             x: None\n",
       "           nit: 0\n",
       "         lower:  residual: None\n",
       "                marginals: None\n",
       "         upper:  residual: None\n",
       "                marginals: None\n",
       "         eqlin:  residual: None\n",
       "                marginals: None\n",
       "       ineqlin:  residual: None\n",
       "                marginals: None"
      ]
     },
     "execution_count": 3,
     "metadata": {},
     "output_type": "execute_result"
    }
   ],
   "source": [
    "res"
   ]
  },
  {
   "cell_type": "markdown",
   "id": "73b0f142-73e4-4bd0-9840-ac62b759aa9b",
   "metadata": {},
   "source": [
    "So, the problem is that the `linprog` method is declaring the problem as \"infeasible\". Let's first plot out point in a graph."
   ]
  },
  {
   "cell_type": "code",
   "execution_count": 4,
   "id": "723cb41b-5dac-440b-be19-0d2818b57d81",
   "metadata": {
    "execution": {
     "iopub.execute_input": "2025-07-30T00:58:50.941207Z",
     "iopub.status.busy": "2025-07-30T00:58:50.940812Z",
     "iopub.status.idle": "2025-07-30T00:58:51.286543Z",
     "shell.execute_reply": "2025-07-30T00:58:51.286291Z",
     "shell.execute_reply.started": "2025-07-30T00:58:50.941183Z"
    }
   },
   "outputs": [
    {
     "data": {
      "image/png": "[encoded data removed]",
      "text/plain": [
       "<Figure size 600x600 with 1 Axes>"
      ]
     },
     "metadata": {},
     "output_type": "display_data"
    }
   ],
   "source": [
    "import numpy as np\n",
    "import matplotlib.pyplot as plt\n",
    "\n",
    "# Datos de entrenamiento\n",
    "X = np.array([\n",
    "    [2, 3],\n",
    "    [3, 3],\n",
    "    [3, 5],\n",
    "    [5, 2],\n",
    "    [1, 1],\n",
    "    [2, 1],\n",
    "    [1, 0],\n",
    "    [0, 2]\n",
    "])\n",
    "y = np.array([1, 1, 1, 1, -1, -1, -1, -1])\n",
    "\n",
    "# Graficar los puntos\n",
    "plt.figure(figsize=(6, 6))\n",
    "plt.scatter(X[y == 1][:, 0], X[y == 1][:, 1], color='blue', label='Class +1')\n",
    "plt.scatter(X[y == -1][:, 0], X[y == -1][:, 1], color='red', label='Class -1')\n",
    "plt.title('Visualisation of our \"training\" data')\n",
    "plt.xlabel(\"X\")\n",
    "plt.ylabel(\"y\")\n",
    "plt.legend()\n",
    "plt.grid(True)\n",
    "plt.axis('equal')\n",
    "plt.show()\n"
   ]
  },
  {
   "cell_type": "markdown",
   "id": "f7addcc1-9830-4cf0-8b29-0f3d98c1cac3",
   "metadata": {},
   "source": [
    "Ideally we could draw a straight line defined by:"
   ]
  },
  {
   "cell_type": "code",
   "execution_count": 5,
   "id": "6bef9e3e-076d-48f3-896e-a6b8bda5a9cc",
   "metadata": {
    "execution": {
     "iopub.execute_input": "2025-07-30T00:58:52.033958Z",
     "iopub.status.busy": "2025-07-30T00:58:52.033489Z",
     "iopub.status.idle": "2025-07-30T00:58:52.037739Z",
     "shell.execute_reply": "2025-07-30T00:58:52.037079Z",
     "shell.execute_reply.started": "2025-07-30T00:58:52.033932Z"
    }
   },
   "outputs": [],
   "source": [
    "# x values between -1 and 6\n",
    "x_line = np.arange(-1, 7)\n",
    "y_line = -x_line + 4  # y = -x + 4"
   ]
  },
  {
   "cell_type": "code",
   "execution_count": 6,
   "id": "fcfeac9a-47eb-44de-b650-da5fb4ee0a51",
   "metadata": {
    "execution": {
     "iopub.execute_input": "2025-07-30T00:58:52.405454Z",
     "iopub.status.busy": "2025-07-30T00:58:52.405120Z",
     "iopub.status.idle": "2025-07-30T00:58:52.508100Z",
     "shell.execute_reply": "2025-07-30T00:58:52.507800Z",
     "shell.execute_reply.started": "2025-07-30T00:58:52.405433Z"
    }
   },
   "outputs": [
    {
     "data": {
      "image/png": "[encoded data removed]",
      "text/plain": [
       "<Figure size 600x600 with 1 Axes>"
      ]
     },
     "metadata": {},
     "output_type": "display_data"
    }
   ],
   "source": [
    "# Graph with line\n",
    "plt.figure(figsize=(6, 6))\n",
    "\n",
    "# Original dataset\n",
    "plt.scatter(X[y == 1][:, 0], X[y == 1][:, 1], color='blue', label='Class +1')\n",
    "plt.scatter(X[y == -1][:, 0], X[y == -1][:, 1], color='red', label='Class -1')\n",
    "\n",
    "# Tentative line\n",
    "plt.plot(x_line, y_line, 'k--', label='Frontier: y = -x + 4')\n",
    "\n",
    "# Points on the line\n",
    "#plt.plot(x_int_vals, y_int_vals_new, 'go', label='Puntos enteros sobre y = -x + 4')\n",
    "\n",
    "plt.title(\"Linear boundary y = -x + 4\")\n",
    "plt.xlabel(\"x1\")\n",
    "plt.ylabel(\"x2\")\n",
    "plt.legend()\n",
    "plt.grid(True)\n",
    "plt.axis('equal')\n",
    "plt.show()"
   ]
  },
  {
   "cell_type": "markdown",
   "id": "7fb73831-1969-43ed-a9d8-f9809a77c4a9",
   "metadata": {},
   "source": [
    "Which can suggest that the problem has a solution and it is possible to separate both data sets. However, when we use linear programming to separate with:"
   ]
  },
  {
   "cell_type": "markdown",
   "id": "e304958d-b016-454e-9c8d-cdd74ef297db",
   "metadata": {},
   "source": [
    "$$\n",
    "y_i (w^Tx_i+c) \\ge 1\n",
    "$$"
   ]
  },
  {
   "cell_type": "markdown",
   "id": "f7865406-582a-44f7-9ff8-87822e2ec572",
   "metadata": {},
   "source": [
    "What we demand is not only separation, but that each point is at a minimum distance of the hyperplane such that this inequality is fulfilled. That is to say that it is not enough that any point is \"on the right side\", they must be separated by at least one unit margin strip. For every point $x_i$ of class $+1$, it is required:\n",
    "\n",
    "$$\n",
    "w^T x_i +  x \\ge 1\n",
    "$$\n",
    "\n",
    "And for one of class $–1$:\n",
    "\n",
    "$$\n",
    "w^T x_i +  x \\le -1\n",
    "$$\n",
    "\n",
    "This generates a margin strip between $–1$ and $+1$, from which no point can be inside. In our case, we have a point in each class in the border of this marging strip. To deal with this restriction, we reformulate our model with slack variables, which allows points within the margin or even poorly classified, in exchange for minimising the total errors.\n",
    "\n",
    "$$\n",
    "y_i(w^T x_i + c) \\ge 1 - \\xi, \\quad \\xi_i \\ge 0\n",
    "$$"
   ]
  },
  {
   "cell_type": "markdown",
   "id": "2ab440fa-04a2-4343-a562-b164809a4ad4",
   "metadata": {},
   "source": [
    "So, we add the slack variable $\\xi$ to allow some points to be inside our margin strip, or even be misclassified:\n",
    "\n",
    "$$\n",
    "\\begin{aligned}\n",
    "\\text{Maximise:} & \\quad \\sum_{i=1}^{n} \\xi_i \\\\\n",
    "\\text{Subject to:} & \\quad y_i(w^T x_i + c) \\ge 1 - \\xi, \\quad \\forall i, \\xi_i \\ge 0 \n",
    "\\end{aligned}\n",
    "$$\n",
    "\n",
    "where:\n",
    "\n",
    "$\n",
    "\\begin{aligned}\n",
    "\\quad \\quad w \\in \\mathbb{R}, & \\text{ coefficient on the linear boundary} \\\\\n",
    "\\quad \\quad c \\in \\mathbb{R}, & \\text{ independent variable} \\\\\n",
    "\\quad \\quad \\xi \\ge 0,        & \\text{ slack variables for each point} \n",
    "\\end{aligned}\n",
    "$\n",
    "\n",
    "So, if there are $n$ data, the problem has $2 + 1+ n = n + 3$ variables."
   ]
  },
  {
   "cell_type": "code",
   "execution_count": 7,
   "id": "6676b989-7c53-4ae5-b94f-1c63218ca065",
   "metadata": {
    "execution": {
     "iopub.execute_input": "2025-07-30T00:58:57.836372Z",
     "iopub.status.busy": "2025-07-30T00:58:57.835765Z",
     "iopub.status.idle": "2025-07-30T00:58:57.851230Z",
     "shell.execute_reply": "2025-07-30T00:58:57.850706Z",
     "shell.execute_reply.started": "2025-07-30T00:58:57.836329Z"
    }
   },
   "outputs": [
    {
     "data": {
      "text/plain": [
       "(array([0.5, 1. ]), np.float64(-3.0), [0.0, 0.0, 0.0, 0.0, 0.0, 0.0, 0.0, 0.0])"
      ]
     },
     "execution_count": 7,
     "metadata": {},
     "output_type": "execute_result"
    }
   ],
   "source": [
    "n_samples, n_features = X.shape\n",
    "n_vars = n_features + 1 + n_samples  # w1, w2, c, and one ξ for each sample\n",
    "\n",
    "# Objective: minimise sum of ξ_i\n",
    "c_obj = np.zeros(n_vars)\n",
    "c_obj[n_features + 1:] = 1  # penalize only the ξ_i\n",
    "\n",
    "# Constraints: y_i * (w^T x_i + c) >= 1 - ξ_i\n",
    "# And becomes: -y_i * (w^T x_i + c) - ξ_i <= -1\n",
    "\n",
    "A_ub = np.zeros((n_samples, n_vars))\n",
    "b_ub = -np.ones(n_samples)\n",
    "\n",
    "for i in range(n_samples):\n",
    "    A_ub[i, :n_features] = -y[i] * X[i]     # w1, w2\n",
    "    A_ub[i, n_features] = -y[i]             # c\n",
    "    A_ub[i, n_features + 1 + i] = -1        # ξ_i\n",
    "\n",
    "# Limits: w and c free, but ξ_i ≥ 0\n",
    "bounds = [(None, None)] * (n_features + 1) + [(0, None)] * n_samples\n",
    "\n",
    "# Solving with linprog\n",
    "res_hol = linprog(c=c_obj, A_ub=A_ub, b_ub=b_ub, bounds=bounds, method='highs')\n",
    "\n",
    "# Extracting results\n",
    "w_sol = res_hol.x[:n_features]\n",
    "c_sol = res_hol.x[n_features]\n",
    "xi_vals = res_hol.x[n_features+1:]\n",
    "\n",
    "w_sol, c_sol, xi_vals.tolist()"
   ]
  },
  {
   "cell_type": "markdown",
   "id": "cf949f1a-6b2a-4f1d-8578-130b17df893a",
   "metadata": {},
   "source": [
    "Although the \"hard\" model failed with margin $ \\ge 1$, when solving the slack model, the optimizer found a feasible solution without real errors. This suggests that there is a valid border, but the previous one was too tight in requiring margin $ \\ge 1$ strictly."
   ]
  },
  {
   "cell_type": "markdown",
   "id": "e72d91a7-c1f6-48e1-b2af-1d76e54fd755",
   "metadata": {},
   "source": [
    "The learned linear boundary is:\n",
    "\n",
    "$$\n",
    "0.5 𝑥 + 1.0y − 3 = 0 \\quad ⇒ \\quad y = − 0.5𝑥_1 + 3\n",
    "$$"
   ]
  },
  {
   "cell_type": "code",
   "execution_count": 10,
   "id": "de4662e0-7de6-4a16-aca1-d9406a15c8be",
   "metadata": {
    "execution": {
     "iopub.execute_input": "2025-07-30T00:59:32.343957Z",
     "iopub.status.busy": "2025-07-30T00:59:32.343419Z",
     "iopub.status.idle": "2025-07-30T00:59:32.451742Z",
     "shell.execute_reply": "2025-07-30T00:59:32.451009Z",
     "shell.execute_reply.started": "2025-07-30T00:59:32.343929Z"
    }
   },
   "outputs": [
    {
     "data": {
      "image/png": "[encoded data removed]",
      "text/plain": [
       "<Figure size 600x600 with 1 Axes>"
      ]
     },
     "metadata": {},
     "output_type": "display_data"
    }
   ],
   "source": [
    "# New line\n",
    "x_line = np.arange(-1, 7)\n",
    "y_line = -0.5 * x_line + 3\n",
    "\n",
    "# Graph with line\n",
    "plt.figure(figsize=(6, 6))\n",
    "\n",
    "# Original dataset\n",
    "plt.scatter(X[y == 1][:, 0], X[y == 1][:, 1], color='blue', label='Class +1')\n",
    "plt.scatter(X[y == -1][:, 0], X[y == -1][:, 1], color='red', label='Class -1')\n",
    "\n",
    "# Drawing\n",
    "plt.plot(x_line, y_line, 'k--', label='Frontier: y = -0.5x + 3')\n",
    "\n",
    "plt.title(\"Boundary y = -0.5x + 3\")\n",
    "plt.xlabel(\"x1\")\n",
    "plt.ylabel(\"x2\")\n",
    "plt.legend()\n",
    "plt.grid(True)\n",
    "plt.axis('equal')\n",
    "plt.show()"
   ]
  },
  {
   "cell_type": "code",
   "execution_count": null,
   "id": "a47cc401-3e8d-4334-9af5-63708568d51d",
   "metadata": {},
   "outputs": [],
   "source": []
  }
 ],
 "metadata": {
  "kernelspec": {
   "display_name": "Python 3 (ipykernel)",
   "language": "python",
   "name": "python3"
  },
  "language_info": {
   "codemirror_mode": {
    "name": "ipython",
    "version": 3
   },
   "file_extension": ".py",
   "mimetype": "text/x-python",
   "name": "python",
   "nbconvert_exporter": "python",
   "pygments_lexer": "ipython3",
   "version": "3.13.5"
  }
 },
 "nbformat": 4,
 "nbformat_minor": 5
}

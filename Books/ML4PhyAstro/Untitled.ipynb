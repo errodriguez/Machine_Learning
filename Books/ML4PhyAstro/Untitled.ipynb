{
 "cells": [
  {
   "cell_type": "code",
   "execution_count": null,
   "id": "bd83b25e-6e02-4343-a30a-bf8f5aae2926",
   "metadata": {
    "execution": {
     "iopub.execute_input": "2025-07-12T00:48:48.851333Z",
     "iopub.status.busy": "2025-07-12T00:48:48.850407Z",
     "iopub.status.idle": "2025-07-12T00:48:48.855835Z",
     "shell.execute_reply": "2025-07-12T00:48:48.855062Z",
     "shell.execute_reply.started": "2025-07-12T00:48:48.851295Z"
    }
   },
   "outputs": [],
   "source": []
  },
  {
   "cell_type": "code",
   "execution_count": null,
   "id": "886565d8-89f1-426b-96e4-f8cca234a54e",
   "metadata": {
    "execution": {
     "iopub.execute_input": "2025-07-12T00:48:48.851333Z",
     "iopub.status.busy": "2025-07-12T00:48:48.850407Z",
     "iopub.status.idle": "2025-07-12T00:48:48.855835Z",
     "shell.execute_reply": "2025-07-12T00:48:48.855062Z",
     "shell.execute_reply.started": "2025-07-12T00:48:48.851295Z"
    }
   },
   "outputs": [],
   "source": [
    "    print(\"hola\")\n",
    "    print(\"hola\")\n",
    "\n",
    "print(\"hola\")"
   ]
  },
  {
   "cell_type": "code",
   "execution_count": null,
   "id": "6d38e442-9567-4b3f-bf0f-bafe704fd641",
   "metadata": {},
   "outputs": [],
   "source": []
  },
  {
   "cell_type": "code",
   "execution_count": null,
   "id": "4468b855-87eb-4f59-b4c5-b4ff7c3e0cd9",
   "metadata": {},
   "outputs": [],
   "source": []
  },
  {
   "cell_type": "code",
   "execution_count": null,
   "id": "982a6dea-b332-4b95-99bf-fa244a0925da",
   "metadata": {},
   "outputs": [],
   "source": []
  }
 ],
 "metadata": {
  "kernelspec": {
   "display_name": "Python 3 (ipykernel)",
   "language": "python",
   "name": "python3"
  },
  "language_info": {
   "codemirror_mode": {
    "name": "ipython",
    "version": 3
   },
   "file_extension": ".py",
   "mimetype": "text/x-python",
   "name": "python",
   "nbconvert_exporter": "python",
   "pygments_lexer": "ipython3",
   "version": "3.12.11"
  }
 },
 "nbformat": 4,
 "nbformat_minor": 5
}
